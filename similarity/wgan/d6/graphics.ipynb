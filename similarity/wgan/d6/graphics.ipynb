{
 "cells": [
  {
   "cell_type": "code",
   "execution_count": null,
   "metadata": {},
   "outputs": [],
   "source": [
    "import matplotlib.pyplot as plt\n",
    "import numpy as np\n",
    "import pandas as pd"
   ]
  },
  {
   "cell_type": "code",
   "execution_count": null,
   "metadata": {},
   "outputs": [],
   "source": [
    "# Function to read log files and extract metrics\n",
    "def read_logs(log_path):\n",
    "    df = pd.read_csv(log_path)\n",
    "    return df\n",
    "\n",
    "def plot_metric_for_all_depths(metric):\n",
    "  plt.figure(figsize=(12, 8))\n",
    "\n",
    "  critic_residual_logs_path = f'SteganoGAN.csv'\n",
    "  critic_residual_logs = read_logs(critic_residual_logs_path)\n",
    "  plt.plot(critic_residual_logs['epoch'], critic_residual_logs[metric], linestyle='dashed')\n",
    "\n",
    "  # Customize the plot\n",
    "  plt.xlabel('Epoch')\n",
    "  plt.ylabel(metric.replace('_', ' ').upper())\n",
    "  plt.title(f'{metric.replace(\"_\", \" \").upper()} Metric Logs for Different Message Depths')\n",
    "  plt.legend(bbox_to_anchor=(1,1), loc=\"upper left\")\n",
    "  plt.grid(True)\n",
    "  plt.xticks(np.arange(min(critic_residual_logs['epoch']), max(critic_residual_logs['epoch']) + 1, 1))\n",
    "  plt.show()"
   ]
  },
  {
   "cell_type": "code",
   "execution_count": null,
   "metadata": {},
   "outputs": [],
   "source": [
    "plot_metric_for_all_depths('psnr')"
   ]
  },
  {
   "cell_type": "code",
   "execution_count": null,
   "metadata": {},
   "outputs": [],
   "source": [
    "plot_metric_for_all_depths('ssim')"
   ]
  },
  {
   "cell_type": "code",
   "execution_count": null,
   "metadata": {},
   "outputs": [],
   "source": [
    "plot_metric_for_all_depths('decoder_loss')"
   ]
  },
  {
   "cell_type": "code",
   "execution_count": null,
   "metadata": {},
   "outputs": [],
   "source": [
    "plot_metric_for_all_depths('decoder_accuracy')"
   ]
  },
  {
   "cell_type": "code",
   "execution_count": null,
   "metadata": {},
   "outputs": [],
   "source": [
    "plot_metric_for_all_depths('critic_loss')"
   ]
  },
  {
   "cell_type": "code",
   "execution_count": null,
   "metadata": {},
   "outputs": [],
   "source": [
    "plot_metric_for_all_depths('encoder_decoder_total_loss')"
   ]
  },
  {
   "cell_type": "code",
   "execution_count": null,
   "metadata": {},
   "outputs": [],
   "source": [
    "plot_metric_for_all_depths('realism_loss')"
   ]
  },
  {
   "cell_type": "code",
   "execution_count": null,
   "metadata": {},
   "outputs": [],
   "source": [
    "plot_metric_for_all_depths('similarity_loss')"
   ]
  }
 ],
 "metadata": {
  "kernelspec": {
   "display_name": "tf",
   "language": "python",
   "name": "python3"
  },
  "language_info": {
   "codemirror_mode": {
    "name": "ipython",
    "version": 3
   },
   "file_extension": ".py",
   "mimetype": "text/x-python",
   "name": "python",
   "nbconvert_exporter": "python",
   "pygments_lexer": "ipython3",
   "version": "3.12.7"
  }
 },
 "nbformat": 4,
 "nbformat_minor": 2
}
