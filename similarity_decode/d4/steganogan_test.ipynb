{
 "cells": [
  {
   "cell_type": "markdown",
   "metadata": {
    "id": "qYnJJYUxbdua"
   },
   "source": [
    "# SteganoGAN in Keras\n",
    "This notebook contains code attempting to reimplement SteganoGAN in Keras, for the purpose of better understanding (and scrutinizing) it.\n",
    "\n",
    "*Based on https://github.com/DAI-Lab/SteganoGAN/tree/master/steganogan*"
   ]
  },
  {
   "cell_type": "markdown",
   "metadata": {
    "id": "OTRQl5_KUxUA"
   },
   "source": [
    "### Modules"
   ]
  },
  {
   "cell_type": "code",
   "execution_count": null,
   "metadata": {
    "id": "QbnEM8Oubduh"
   },
   "outputs": [],
   "source": [
    "import os\n",
    "os.environ[\"KERAS_BACKEND\"] = \"tensorflow\"\n",
    "import sys\n",
    "\n",
    "import tensorflow as tf\n",
    "from tensorflow.keras.optimizers import Adam, RMSprop\n",
    "from tensorflow.keras.losses import BinaryCrossentropy, MeanSquaredError\n",
    "\n",
    "from resnet_steganogan_gp import SteganoGAN\n",
    "from models import DenseEncoder, DenseDecoder, Critic"
   ]
  },
  {
   "cell_type": "markdown",
   "metadata": {},
   "source": [
    "### Constants"
   ]
  },
  {
   "cell_type": "code",
   "execution_count": null,
   "metadata": {},
   "outputs": [],
   "source": [
    "# Image dimensions\n",
    "IMAGE_HEIGHT = 128\n",
    "IMAGE_WIDTH = 128\n",
    "IMAGE_CHANNELS = 3\n",
    "\n",
    "IMAGE_SHAPE = (IMAGE_HEIGHT, IMAGE_WIDTH, IMAGE_CHANNELS)\n",
    "MESSAGE_DEPTH = 4\n",
    "BATCH_SIZE = 4\n",
    "MODEL_PATH = 'SteganoGAN.weights.h5'\n",
    "\n",
    "IMAGES_TESTING_PATH = 'images/testing'\n",
    "IMAGES_OUTPUT_PATH = 'images/testing_output'"
   ]
  },
  {
   "cell_type": "markdown",
   "metadata": {},
   "source": [
    "----"
   ]
  },
  {
   "cell_type": "markdown",
   "metadata": {},
   "source": [
    "### Call main encode and decode functions (with creating steganographic image and decoding it)"
   ]
  },
  {
   "cell_type": "code",
   "execution_count": null,
   "metadata": {},
   "outputs": [],
   "source": [
    "encoder = DenseEncoder(MESSAGE_DEPTH)\n",
    "decoder = DenseDecoder(MESSAGE_DEPTH)\n",
    "critic = Critic()\n",
    "\n",
    "encoder.build(input_shape=[(None, None, None, IMAGE_CHANNELS), (None, None, None, MESSAGE_DEPTH)])\n",
    "decoder.build(input_shape=(None, None, None, IMAGE_CHANNELS))\n",
    "critic.build(input_shape=(None, None, None, IMAGE_CHANNELS))\n",
    "\n",
    "stegano_gan = SteganoGAN(\n",
    "  encoder=encoder,\n",
    "  decoder=decoder,\n",
    "  critic=critic,\n",
    "  data_depth=MESSAGE_DEPTH,\n",
    "  image_shape=IMAGE_SHAPE\n",
    ")\n",
    "\n",
    "stegano_gan.build(input_shape=[(None, None, None, IMAGE_CHANNELS), (None, None, None, MESSAGE_DEPTH)])\n",
    "\n",
    "if MODEL_PATH is not None and os.path.exists(MODEL_PATH):\n",
    "  stegano_gan.load_weights(MODEL_PATH)\n",
    "  print(f'Model loaded from {MODEL_PATH}')\n",
    "\n",
    "stegano_gan.compile(\n",
    "  encoder_decoder_optimizer  = Adam(learning_rate=1e-4),\n",
    "  critic_optimizer           = Adam(learning_rate=1e-4, beta_1=0.5, beta_2=0.9),\n",
    "  similarity_loss_fn         = MeanSquaredError(),\n",
    "  decoder_loss_fn            = BinaryCrossentropy(from_logits=True) # false means that data to compare is in [0, 1]\n",
    ")"
   ]
  },
  {
   "cell_type": "code",
   "execution_count": null,
   "metadata": {},
   "outputs": [],
   "source": [
    "stegano_gan.encode(f'{IMAGES_TESTING_PATH}/input1.png', f'{IMAGES_OUTPUT_PATH}/output1.png', 'Hello, World! 1111')\n",
    "print(stegano_gan.decode(f'{IMAGES_OUTPUT_PATH}/output1.png'))"
   ]
  },
  {
   "cell_type": "code",
   "execution_count": null,
   "metadata": {},
   "outputs": [],
   "source": [
    "stegano_gan.encode(f'{IMAGES_TESTING_PATH}/input2.png', f'{IMAGES_OUTPUT_PATH}/output2.png', 'Hello, World! 2222')\n",
    "print(stegano_gan.decode(f'{IMAGES_OUTPUT_PATH}/output2.png'))"
   ]
  },
  {
   "cell_type": "code",
   "execution_count": null,
   "metadata": {},
   "outputs": [],
   "source": [
    "stegano_gan.encode(f'{IMAGES_TESTING_PATH}/input3.png', f'{IMAGES_OUTPUT_PATH}/output3.png', 'Hello, World! 3333')\n",
    "print(stegano_gan.decode(f'{IMAGES_OUTPUT_PATH}/output3.png'))"
   ]
  },
  {
   "cell_type": "code",
   "execution_count": null,
   "metadata": {},
   "outputs": [],
   "source": [
    "stegano_gan.encode(f'{IMAGES_TESTING_PATH}/input4.png', f'{IMAGES_OUTPUT_PATH}/output4.png', 'Hello, World! 4444')\n",
    "print(stegano_gan.decode(f'{IMAGES_OUTPUT_PATH}/output4.png'))"
   ]
  },
  {
   "cell_type": "markdown",
   "metadata": {},
   "source": [
    "### SteganoGAN predict random data with metrics"
   ]
  },
  {
   "cell_type": "code",
   "execution_count": null,
   "metadata": {},
   "outputs": [],
   "source": [
    "cover_image = tf.random.uniform([1, IMAGE_HEIGHT, IMAGE_WIDTH, IMAGE_CHANNELS], -1, 1, dtype=tf.float32)\n",
    "message = tf.cast(tf.random.uniform([1, IMAGE_HEIGHT, IMAGE_WIDTH, MESSAGE_DEPTH], 0, 2, dtype=tf.int32), tf.float32)\n",
    "\n",
    "stego_img, recovered_msg = stegano_gan.predict([cover_image, message])\n",
    "\n",
    "print(\"stego_img min: {0}, max: {1}\".format(tf.reduce_min(stego_img), tf.reduce_max(stego_img)))\n",
    "print(\"recovered_msg min: {0}, max: {1}\".format(tf.reduce_min(recovered_msg), tf.reduce_max(recovered_msg)))\n",
    "\n",
    "print(\"BinaryCrossentropy: {0}\".format(BinaryCrossentropy(from_logits=True)(message, recovered_msg)))\n",
    "print(\"PSNR: {0}\".format(tf.reduce_mean(tf.image.psnr(cover_image, stego_img, 1))))\n",
    "print(\"SSIM: {0}\".format(tf.reduce_mean(tf.image.ssim(cover_image, stego_img, 1))))"
   ]
  },
  {
   "cell_type": "code",
   "execution_count": null,
   "metadata": {},
   "outputs": [],
   "source": [
    "from PIL import Image\n",
    "import matplotlib.pyplot as plt\n",
    "import numpy as np\n",
    "\n",
    "# Load images\n",
    "input_image_paths = [f'{IMAGES_TESTING_PATH}/input{i}.png' for i in range(1, 5)]\n",
    "output_image_paths = [f'{IMAGES_OUTPUT_PATH}/output{i}.png' for i in range(1, 5)]\n",
    "\n",
    "input_images = [Image.open(path).convert('L') for path in input_image_paths]\n",
    "output_images = [Image.open(path).convert('L') for path in output_image_paths]\n",
    "\n",
    "# Convert images to numpy arrays\n",
    "input_images_np = [np.array(img) for img in input_images]\n",
    "output_images_np = [np.array(img) for img in output_images]\n",
    "\n",
    "# Calculate the absolute difference between the images\n",
    "difference_images_np = [np.abs(input_np - output_np) for input_np, output_np in zip(input_images_np, output_images_np)]\n",
    "\n",
    "# Convert the difference images to PIL images\n",
    "difference_images = [Image.fromarray(diff_np.astype('uint8')) for diff_np in difference_images_np]\n",
    "\n",
    "# Plot the images\n",
    "fig, axes = plt.subplots(2, 4, figsize=(15, 10))\n",
    "\n",
    "for i in range(4):\n",
    "  axes[0, i].imshow(input_images[i], cmap='gray')\n",
    "  axes[0, i].set_title(f'Input Image {i+1}')\n",
    "  axes[0, i].axis('off')\n",
    "\n",
    "  axes[1, i].imshow(difference_images[i], cmap='gray')\n",
    "  axes[1, i].set_title(f'Difference Image {i+1}')\n",
    "  axes[1, i].axis('off')\n",
    "\n",
    "plt.tight_layout()\n",
    "plt.show()"
   ]
  },
  {
   "cell_type": "code",
   "execution_count": null,
   "metadata": {},
   "outputs": [],
   "source": [
    "from PIL import Image\n",
    "import matplotlib.pyplot as plt\n",
    "import numpy as np\n",
    "\n",
    "# Load images\n",
    "input_image_paths = [f'{IMAGES_TESTING_PATH}/input{i}.png' for i in range(1, 5)]\n",
    "output_image_paths = [f'{IMAGES_OUTPUT_PATH}/output{i}.png' for i in range(1, 5)]\n",
    "\n",
    "input_images = [Image.open(path).convert('RGB') for path in input_image_paths]\n",
    "output_images = [Image.open(path).convert('RGB') for path in output_image_paths]\n",
    "\n",
    "# Convert images to numpy arrays\n",
    "input_images_np = [np.array(img) for img in input_images]\n",
    "output_images_np = [np.array(img) for img in output_images]\n",
    "\n",
    "# Calculate the absolute difference between the images\n",
    "difference_images_np = [np.abs(input_np - output_np) for input_np, output_np in zip(input_images_np, output_images_np)]\n",
    "\n",
    "# Convert the difference images to PIL images\n",
    "difference_images = [Image.fromarray(diff_np.astype('uint8')) for diff_np in difference_images_np]\n",
    "\n",
    "# Plot the images\n",
    "fig, axes = plt.subplots(2, 4, figsize=(15, 10))\n",
    "\n",
    "for i in range(4):\n",
    "  axes[0, i].imshow(input_images[i])\n",
    "  axes[0, i].set_title(f'Input Image {i+1}')\n",
    "  axes[0, i].axis('off')\n",
    "\n",
    "  axes[1, i].imshow(difference_images[i])\n",
    "  axes[1, i].set_title(f'Difference Image {i+1}')\n",
    "  axes[1, i].axis('off')\n",
    "\n",
    "plt.tight_layout()\n",
    "plt.show()"
   ]
  },
  {
   "cell_type": "code",
   "execution_count": null,
   "metadata": {},
   "outputs": [],
   "source": []
  }
 ],
 "metadata": {
  "colab": {
   "name": "steganogan_keras.ipynb",
   "provenance": [
    {
     "file_id": "https://github.com/jnickg/steganet/blob/main/steganogan_keras.ipynb",
     "timestamp": 1710610773710
    }
   ]
  },
  "kernelspec": {
   "display_name": "tf",
   "language": "python",
   "name": "python3"
  },
  "language_info": {
   "codemirror_mode": {
    "name": "ipython",
    "version": 3
   },
   "file_extension": ".py",
   "mimetype": "text/x-python",
   "name": "python",
   "nbconvert_exporter": "python",
   "pygments_lexer": "ipython3",
   "version": "3.12.7"
  },
  "orig_nbformat": 2
 },
 "nbformat": 4,
 "nbformat_minor": 0
}
